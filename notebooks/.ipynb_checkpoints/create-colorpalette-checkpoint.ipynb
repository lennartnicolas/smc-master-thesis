{
 "cells": [
  {
   "cell_type": "markdown",
   "id": "97f00081",
   "metadata": {},
   "source": [
    "### Color palette\n",
    "\n",
    "This code compiles a color palette with 300 highly distinct colors. However, the higher the amount of colors is the less distinctiveness is possible. "
   ]
  },
  {
   "cell_type": "code",
   "execution_count": 1,
   "id": "45b1a46f",
   "metadata": {},
   "outputs": [],
   "source": [
    "import colorutils\n",
    "import matplotlib.pyplot as plt\n",
    "import numpy as np\n",
    "import os"
   ]
  },
  {
   "cell_type": "code",
   "execution_count": 2,
   "id": "25265aee",
   "metadata": {},
   "outputs": [],
   "source": [
    "# Compute distinct color palette for 300 colors\n",
    "colors  = colorutils.getDistinctColors(300, 1000)"
   ]
  },
  {
   "cell_type": "code",
   "execution_count": 6,
   "id": "622ffaff",
   "metadata": {},
   "outputs": [
    {
     "data": {
      "text/plain": [
       "<matplotlib.image.AxesImage at 0x10e6025e0>"
      ]
     },
     "execution_count": 6,
     "metadata": {},
     "output_type": "execute_result"
    },
    {
     "data": {
      "image/png": "[encoded data removed]",
      "text/plain": [
       "<Figure size 432x288 with 1 Axes>"
      ]
     },
     "metadata": {
      "needs_background": "light"
     },
     "output_type": "display_data"
    }
   ],
   "source": [
    "indices = np.random.randint(0, len(colors), size=(17, 17))\n",
    "colors  = np.array(colors)\n",
    "plt.imshow(colors[indices])"
   ]
  },
  {
   "cell_type": "code",
   "execution_count": 4,
   "id": "2b078c8f",
   "metadata": {},
   "outputs": [],
   "source": [
    "# Save colors to npy\n",
    "DATA_DIR          = 'data'\n",
    "COLORPALETTE_PATH = os.path.join(DATA_DIR, 'colorpalette-300.npy')\n",
    "np.save(COLORPALETTE_PATH, colors)"
   ]
  }
 ],
 "metadata": {
  "kernelspec": {
   "display_name": "Python 3 (ipykernel)",
   "language": "python",
   "name": "python3"
  },
  "language_info": {
   "codemirror_mode": {
    "name": "ipython",
    "version": 3
   },
   "file_extension": ".py",
   "mimetype": "text/x-python",
   "name": "python",
   "nbconvert_exporter": "python",
   "pygments_lexer": "ipython3",
   "version": "3.9.12"
  }
 },
 "nbformat": 4,
 "nbformat_minor": 5
}
